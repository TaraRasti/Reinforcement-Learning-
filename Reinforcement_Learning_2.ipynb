{
  "nbformat": 4,
  "nbformat_minor": 0,
  "metadata": {
    "colab": {
      "provenance": []
    },
    "kernelspec": {
      "name": "python3",
      "display_name": "Python 3"
    },
    "language_info": {
      "name": "python"
    }
  },
  "cells": [
    {
      "cell_type": "code",
      "execution_count": 11,
      "metadata": {
        "id": "PNmv4w0MYbca"
      },
      "outputs": [],
      "source": [
        "import gymnasium as gym"
      ]
    },
    {
      "cell_type": "code",
      "source": [
        "import gym\n",
        "\n",
        "env = gym.make(\"CartPole-v1\", render_mode=\"rgb_array\")\n",
        "env = gym.wrappers. RecordEpisodeStatistics(env)\n",
        "obs = env.reset()\n",
        "print(obs)\n",
        "\n",
        "terminated = False\n",
        "truncated = False\n",
        "total_reward = 0\n",
        "\n",
        "while not (terminated or truncated):\n",
        "    action = env.action_space.sample()\n",
        "    obs, reward, terminated, truncated, info = env.step(action)\n",
        "    total_reward += reward\n",
        "    print(obs, reward, terminated, truncated, info)\n",
        "\n",
        "print(\"Total reward:\", total_reward)\n"
      ],
      "metadata": {
        "colab": {
          "base_uri": "https://localhost:8080/"
        },
        "id": "myFuPs4wdgqE",
        "outputId": "b25200d4-be3b-42ea-c983-cdf37df58432"
      },
      "execution_count": 9,
      "outputs": [
        {
          "output_type": "stream",
          "name": "stdout",
          "text": [
            "(array([ 0.03595088,  0.0109211 , -0.00951819, -0.0226011 ], dtype=float32), {})\n",
            "[ 0.0361693  -0.18406306 -0.00997021  0.2670636 ] 1.0 False False {}\n",
            "[ 0.03248804 -0.3790413  -0.00462894  0.55658525] 1.0 False False {}\n",
            "[ 0.02490721 -0.18385468  0.00650277  0.26244754] 1.0 False False {}\n",
            "[ 0.02123012  0.01117384  0.01175172 -0.02817728] 1.0 False False {}\n",
            "[ 0.02145359 -0.18411465  0.01118817  0.26819015] 1.0 False False {}\n",
            "[ 0.0177713   0.01084586  0.01655198 -0.02094305] 1.0 False False {}\n",
            "[ 0.01798822  0.20572658  0.01613311 -0.308358  ] 1.0 False False {}\n",
            "[ 0.02210275  0.40061498  0.00996595 -0.59590966] 1.0 False False {}\n",
            "[ 0.03011505  0.5955961  -0.00195224 -0.8854368 ] 1.0 False False {}\n",
            "[ 0.04202697  0.40050066 -0.01966098 -0.59336823] 1.0 False False {}\n",
            "[ 0.05003699  0.20565936 -0.03152834 -0.3069427 ] 1.0 False False {}\n",
            "[ 0.05415017  0.40121606 -0.03766719 -0.6093998 ] 1.0 False False {}\n",
            "[ 0.06217449  0.5968438  -0.04985519 -0.9137047 ] 1.0 False False {}\n",
            "[ 0.07411136  0.40243036 -0.06812929 -0.6370983 ] 1.0 False False {}\n",
            "[ 0.08215997  0.20832132 -0.08087125 -0.36662474] 1.0 False False {}\n",
            "[ 0.0863264   0.01443612 -0.08820374 -0.1004977 ] 1.0 False False {}\n",
            "[ 0.08661512  0.21070419 -0.0902137  -0.41965362] 1.0 False False {}\n",
            "[ 0.09082921  0.0169686  -0.09860677 -0.15671885] 1.0 False False {}\n",
            "[ 0.09116858 -0.1766134  -0.10174115  0.10330019] 1.0 False False {}\n",
            "[ 0.08763631  0.01980829 -0.09967514 -0.21966909] 1.0 False False {}\n",
            "[ 0.08803248 -0.17375806 -0.10406853  0.0399833 ] 1.0 False False {}\n",
            "[ 0.08455732  0.02269036 -0.10326886 -0.283636  ] 1.0 False False {}\n",
            "[ 0.08501112 -0.1708187  -0.10894158 -0.02522592] 1.0 False False {}\n",
            "[ 0.08159475  0.02568326 -0.1094461  -0.350197  ] 1.0 False False {}\n",
            "[ 0.08210842  0.22217773 -0.11645004 -0.67528814] 1.0 False False {}\n",
            "[ 0.08655197  0.41870886 -0.1299558  -1.0022472 ] 1.0 False False {}\n",
            "[ 0.09492615  0.22554013 -0.15000075 -0.75303704] 1.0 False False {}\n",
            "[ 0.09943695  0.42237687 -0.16506149 -1.0889118 ] 1.0 False False {}\n",
            "[ 0.10788449  0.6192443  -0.18683971 -1.4285072 ] 1.0 False False {}\n",
            "[ 0.12026937  0.816117   -0.21540986 -1.7732886 ] 1.0 True False {'episode': {'r': 30.0, 'l': 30, 't': 0.008664}}\n",
            "Total reward: 30.0\n"
          ]
        }
      ]
    },
    {
      "cell_type": "code",
      "source": [
        "def make_env():\n",
        "    env = gym.make(\"CartPole-v1\", render_mode=\"rgb_array\")\n",
        "    env = gym.wrappers. RecordEpisodeStatistics(env)\n",
        "    return env\n",
        ""
      ],
      "metadata": {
        "id": "tLYECXrLfv3K"
      },
      "execution_count": 12,
      "outputs": []
    },
    {
      "cell_type": "code",
      "source": [
        "num_envs = 3\n",
        "envs = gym.vector.SyncVectorEnv(\n",
        "    [make_env for _ in range(num_envs)]\n",
        ")"
      ],
      "metadata": {
        "id": "fKJnRENtj6tr"
      },
      "execution_count": 13,
      "outputs": []
    },
    {
      "cell_type": "code",
      "source": [
        "obs = envs.reset()\n",
        "print(obs)\n",
        "\n",
        "terminated = False\n",
        "truncated = False\n",
        "total_reward = 0\n",
        "\n",
        "while not (terminated or truncated):\n",
        "    actions = envs.action_space.sample()\n",
        "    obs, rewards, terminateds, truncateds, infos = envs.step(actions)\n",
        "    print(obs, rewards, terminateds, truncateds, infos)\n",
        "\n",
        "    terminated = terminateds[0]\n",
        "    truncated = truncateds[0]\n",
        "\n",
        "\n",
        "envs.close()\n",
        "print(\"Total reward:\", total_reward)"
      ],
      "metadata": {
        "colab": {
          "base_uri": "https://localhost:8080/"
        },
        "id": "N3uyXP2SkyTU",
        "outputId": "329ceb7a-ddf6-4cee-9317-12a4f177bc4c"
      },
      "execution_count": 14,
      "outputs": [
        {
          "output_type": "stream",
          "name": "stdout",
          "text": [
            "(array([[ 0.04637741,  0.03135088,  0.00011696,  0.00202573],\n",
            "       [-0.01396612, -0.01010243,  0.00082639, -0.03322885],\n",
            "       [-0.03324229,  0.00455092,  0.03060834,  0.0303527 ]],\n",
            "      dtype=float32), {})\n",
            "[[ 4.70044278e-02  2.26471156e-01  1.57474176e-04 -2.90620297e-01]\n",
            " [-1.41681675e-02  1.85007662e-01  1.61817166e-04 -3.25650930e-01]\n",
            " [-3.31512652e-02 -1.90996289e-01  3.12153976e-02  3.32533568e-01]] [1. 1. 1.] [False False False] [False False False] {}\n",
            "[[ 0.05153385  0.03134696 -0.00565493  0.0021123 ]\n",
            " [-0.01046801  0.3801273  -0.0063512  -0.6182828 ]\n",
            " [-0.03697119 -0.3865483   0.03786607  0.63489455]] [1. 1. 1.] [False False False] [False False False] {}\n",
            "[[ 0.05216079  0.22654955 -0.00561269 -0.29234946]\n",
            " [-0.00286547  0.5753374  -0.01871686 -0.9129593 ]\n",
            " [-0.04470216 -0.19197442  0.05056396  0.3543729 ]] [1. 1. 1.] [False False False] [False False False] {}\n",
            "[[ 0.05669178  0.03150807 -0.01145967 -0.00144196]\n",
            " [ 0.00864128  0.7707075  -0.03697604 -1.2114655 ]\n",
            " [-0.04854165  0.00239346  0.05765142  0.07805316]] [1. 1. 1.] [False False False] [False False False] {}\n",
            "[[ 0.05732194 -0.16344766 -0.01148851  0.28760338]\n",
            " [ 0.02405543  0.9662868  -0.06120535 -1.5155023 ]\n",
            " [-0.04849378  0.19664359  0.05921248 -0.19589782]] [1. 1. 1.] [False False False] [False False False] {}\n",
            "[[ 0.05405299  0.03183622 -0.00573645 -0.00868067]\n",
            " [ 0.04338117  1.1620936  -0.0915154  -1.8266459 ]\n",
            " [-0.04456091  0.39087078  0.05529452 -0.4693297 ]] [1. 1. 1.] [False False False] [False False False] {}\n",
            "[[ 0.05468972  0.22703996 -0.00591006 -0.30316797]\n",
            " [ 0.06662304  0.96809787 -0.12804832 -1.563738  ]\n",
            " [-0.03674349  0.5851698   0.04590793 -0.7440845 ]] [1. 1. 1.] [False False False] [False False False] {}\n",
            "[[ 0.05923051  0.42224565 -0.01197342 -0.59770894]\n",
            " [ 0.085985    0.7747184  -0.15932308 -1.313587  ]\n",
            " [-0.02504009  0.7796291   0.03102624 -1.021974  ]] [1. 1. 1.] [False False False] [False False False] {}\n",
            "[[ 0.06767543  0.22729327 -0.0239276  -0.3088214 ]\n",
            " [ 0.10147937  0.58193094 -0.18559481 -1.0747112 ]\n",
            " [-0.00944751  0.5841079   0.01058676 -0.719713  ]] [1. 1. 1.] [False False False] [False False False] {}\n",
            "[[ 0.07222129  0.42274782 -0.03010403 -0.6089534 ]\n",
            " [ 0.11311798  0.77895504 -0.20708904 -1.4194243 ]\n",
            " [ 0.00223465  0.77908176 -0.0038075  -1.009045  ]] [1. 1. 1.] [False False False] [False False False] {}\n",
            "[[ 0.08067625  0.61827743 -0.0422831  -0.91096413]\n",
            " [ 0.03022363  0.01414495 -0.02471852 -0.02886439]\n",
            " [ 0.01781628  0.9742543  -0.0239884  -1.302921  ]] [1. 1. 1.] [False  True False] [False False False] {'final_observation': array([None,\n",
            "       array([ 0.12869708,  0.9759492 , -0.23547752, -1.7690519 ], dtype=float32),\n",
            "       None], dtype=object), '_final_observation': array([False,  True, False]), 'final_info': array([None, {'episode': {'r': 11.0, 'l': 11, 't': 477.330765}}, None],\n",
            "      dtype=object), '_final_info': array([False,  True, False])}\n",
            "[[ 0.0930418   0.81394523 -0.06050238 -1.216631  ]\n",
            " [ 0.03050653 -0.18061396 -0.0252958   0.25591823]\n",
            " [ 0.03730137  0.77944475 -0.05004682 -1.0178427 ]] [1. 1. 1.] [False False False] [False False False] {}\n",
            "[[ 0.1093207   1.009793   -0.084835   -1.5276421 ]\n",
            " [ 0.02689425 -0.3753658  -0.02017744  0.5405163 ]\n",
            " [ 0.05289026  0.58502436 -0.07040367 -0.7412849 ]] [1. 1. 1.] [False False False] [False False False] {}\n",
            "[[ 0.12951656  1.20583    -0.11538784 -1.8455515 ]\n",
            " [ 0.01938693 -0.5701984  -0.00936711  0.826774  ]\n",
            " [ 0.06459074  0.39094132 -0.08522937 -0.47156316]] [1. 1. 1.] [False False False] [False False False] {}\n",
            "[[ 0.15363316  1.4020191  -0.15229887 -2.1717272 ]\n",
            " [ 0.00798297 -0.3749496   0.00716837  0.53115976]\n",
            " [ 0.07240958  0.19712009 -0.09466063 -0.20691371]] [1. 1. 1.] [False False False] [False False False] {}\n",
            "[[ 1.8167354e-01  1.5982631e+00 -1.9573341e-01 -2.5072889e+00]\n",
            " [ 4.8397455e-04 -5.7017165e-01  1.7791564e-02  8.2609278e-01]\n",
            " [ 7.6351978e-02  3.4702513e-03 -9.8798908e-02  5.4471910e-02]] [1. 1. 1.] [False False False] [False False False] {}\n",
            "[[-0.04121304 -0.04839323 -0.04702114  0.04580536]\n",
            " [-0.01091946 -0.3752975   0.03431342  0.5390582 ]\n",
            " [ 0.07642138 -0.19010645 -0.09770947  0.31442133]] [1. 1. 1.] [ True False False] [False False False] {'final_observation': array([array([ 0.21363881,  1.4052186 , -0.24587919, -2.28043   ], dtype=float32),\n",
            "       None, None], dtype=object), '_final_observation': array([ True, False, False]), 'final_info': array([{'episode': {'r': 17.0, 'l': 17, 't': 477.334844}}, None, None],\n",
            "      dtype=object), '_final_info': array([ True, False, False])}\n",
            "Total reward: 0\n"
          ]
        }
      ]
    },
    {
      "cell_type": "code",
      "source": [],
      "metadata": {
        "id": "LhDW7M7ymm0v"
      },
      "execution_count": null,
      "outputs": []
    }
  ]
}