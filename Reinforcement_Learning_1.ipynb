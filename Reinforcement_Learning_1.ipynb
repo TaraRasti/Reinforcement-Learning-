{
  "nbformat": 4,
  "nbformat_minor": 0,
  "metadata": {
    "colab": {
      "provenance": []
    },
    "kernelspec": {
      "name": "python3",
      "display_name": "Python 3"
    },
    "language_info": {
      "name": "python"
    }
  },
  "cells": [
    {
      "cell_type": "code",
      "execution_count": 11,
      "metadata": {
        "id": "PNmv4w0MYbca"
      },
      "outputs": [],
      "source": [
        "import gymnasium as gym"
      ]
    },
    {
      "cell_type": "code",
      "source": [
        "import gym\n",
        "\n",
        "env = gym.make(\"CartPole-v1\", render_mode=\"rgb_array\")\n",
        "env = gym.wrappers. RecordVideo(env, \"videos\")\n",
        "obs = env.reset()\n",
        "\n",
        "terminated = False\n",
        "truncated = False\n",
        "total_reward = 0\n",
        "\n",
        "while not (terminated or truncated):\n",
        "    action = env.action_space.sample()\n",
        "    obs, reward, terminated, truncated, info = env.step(action)\n",
        "    total_reward += reward\n",
        "\n",
        "print(\"Total reward:\", total_reward)\n"
      ],
      "metadata": {
        "colab": {
          "base_uri": "https://localhost:8080/"
        },
        "id": "myFuPs4wdgqE",
        "outputId": "dbbdc1e7-6b4c-4c02-ec9e-b0472d539c14"
      },
      "execution_count": 4,
      "outputs": [
        {
          "output_type": "stream",
          "name": "stdout",
          "text": [
            "Moviepy - Building video /content/videos/rl-video-episode-0.mp4.\n",
            "Moviepy - Writing video /content/videos/rl-video-episode-0.mp4\n",
            "\n"
          ]
        },
        {
          "output_type": "stream",
          "name": "stderr",
          "text": []
        },
        {
          "output_type": "stream",
          "name": "stdout",
          "text": [
            "Moviepy - Done !\n",
            "Moviepy - video ready /content/videos/rl-video-episode-0.mp4\n",
            "Total reward: 23.0\n"
          ]
        }
      ]
    },
    {
      "cell_type": "code",
      "source": [
        "env.close()"
      ],
      "metadata": {
        "id": "rfSADfwVd7g9"
      },
      "execution_count": 3,
      "outputs": []
    },
    {
      "cell_type": "code",
      "source": [
        "!ls videos"
      ],
      "metadata": {
        "colab": {
          "base_uri": "https://localhost:8080/"
        },
        "id": "UGxTUfZmehNg",
        "outputId": "1bd4a663-2a74-4d65-8a38-555b6dcc6ea3"
      },
      "execution_count": 6,
      "outputs": [
        {
          "output_type": "stream",
          "name": "stdout",
          "text": [
            "rl-video-episode-0.meta.json  rl-video-episode-0.mp4\n"
          ]
        }
      ]
    },
    {
      "cell_type": "code",
      "source": [
        "from IPython.display import HTML\n",
        "from base64 import b64encode\n",
        "\n",
        "mp4_path = \"videos/rl-video-episode-0.mp4\"\n",
        "\n",
        "# Read the video file and encode it in base64\n",
        "video = open(mp4_path, \"rb\").read()\n",
        "video_encoded = b64encode(video).decode()\n",
        "\n",
        "# Create an HTML video tag with controls to embed the video\n",
        "HTML(f'''\n",
        "<video width=\"640\" height=\"480\" controls>\n",
        "  <source src=\"data:video/mp4;base64,{video_encoded}\" type=\"video/mp4\">\n",
        "  Your browser does not support the video tag.\n",
        "</video>\n",
        "''')\n"
      ],
      "metadata": {
        "colab": {
          "base_uri": "https://localhost:8080/",
          "height": 501
        },
        "id": "vq2JnNU8fjwj",
        "outputId": "5d4188c7-e845-4cb2-b481-6190260b343b"
      },
      "execution_count": 7,
      "outputs": [
        {
          "output_type": "execute_result",
          "data": {
            "text/plain": [
              "<IPython.core.display.HTML object>"
            ],
            "text/html": [
              "\n",
              "<video width=\"640\" height=\"480\" controls>\n",
              "  <source src=\"data:video/mp4;base64,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\" type=\"video/mp4\">\n",
              "  Your browser does not support the video tag.\n",
              "</video>\n"
            ]
          },
          "metadata": {},
          "execution_count": 7
        }
      ]
    },
    {
      "cell_type": "code",
      "source": [],
      "metadata": {
        "id": "tLYECXrLfv3K"
      },
      "execution_count": null,
      "outputs": []
    }
  ]
}